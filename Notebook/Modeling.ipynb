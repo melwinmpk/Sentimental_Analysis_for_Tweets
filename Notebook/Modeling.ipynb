{
 "cells": [
  {
   "cell_type": "code",
   "execution_count": 1,
   "metadata": {},
   "outputs": [],
   "source": [
    "import warnings\n",
    "warnings.filterwarnings('ignore')"
   ]
  },
  {
   "cell_type": "code",
   "execution_count": 2,
   "metadata": {},
   "outputs": [],
   "source": [
    "import pandas as pd\n",
    "import numpy as np\n",
    "import matplotlib.pyplot as plt\n",
    "%matplotlib inline\n",
    "import seaborn as sns\n",
    "from collections import Counter\n",
    "pd.pandas.set_option('display.max_columns',None)"
   ]
  },
  {
   "cell_type": "code",
   "execution_count": 4,
   "metadata": {
    "scrolled": false
   },
   "outputs": [
    {
     "name": "stdout",
     "output_type": "stream",
     "text": [
      "(162980, 2)\n"
     ]
    }
   ],
   "source": [
    "train_procreesed_data = pd.read_csv(\"../data/train_processed_data.csv\")\n",
    "print(train_procreesed_data.shape)"
   ]
  },
  {
   "cell_type": "code",
   "execution_count": 5,
   "metadata": {},
   "outputs": [],
   "source": [
    "train_procreesed_data = train_procreesed_data.dropna()"
   ]
  },
  {
   "cell_type": "code",
   "execution_count": 6,
   "metadata": {
    "scrolled": true
   },
   "outputs": [
    {
     "data": {
      "text/html": [
       "<div>\n",
       "<style scoped>\n",
       "    .dataframe tbody tr th:only-of-type {\n",
       "        vertical-align: middle;\n",
       "    }\n",
       "\n",
       "    .dataframe tbody tr th {\n",
       "        vertical-align: top;\n",
       "    }\n",
       "\n",
       "    .dataframe thead th {\n",
       "        text-align: right;\n",
       "    }\n",
       "</style>\n",
       "<table border=\"1\" class=\"dataframe\">\n",
       "  <thead>\n",
       "    <tr style=\"text-align: right;\">\n",
       "      <th></th>\n",
       "      <th>clean_text</th>\n",
       "      <th>category</th>\n",
       "    </tr>\n",
       "  </thead>\n",
       "  <tbody>\n",
       "    <tr>\n",
       "      <th>0</th>\n",
       "      <td>modi promise minimum government maximum govern...</td>\n",
       "      <td>-1.0</td>\n",
       "    </tr>\n",
       "    <tr>\n",
       "      <th>1</th>\n",
       "      <td>talk nonsense continue drama vote modi</td>\n",
       "      <td>0.0</td>\n",
       "    </tr>\n",
       "    <tr>\n",
       "      <th>2</th>\n",
       "      <td>say vote modi welcome bjp tell rahul main camp...</td>\n",
       "      <td>1.0</td>\n",
       "    </tr>\n",
       "    <tr>\n",
       "      <th>3</th>\n",
       "      <td>ask supporter prefix chowkidar name modi great...</td>\n",
       "      <td>1.0</td>\n",
       "    </tr>\n",
       "    <tr>\n",
       "      <th>4</th>\n",
       "      <td>answer among powerful world leader today trump...</td>\n",
       "      <td>1.0</td>\n",
       "    </tr>\n",
       "  </tbody>\n",
       "</table>\n",
       "</div>"
      ],
      "text/plain": [
       "                                          clean_text  category\n",
       "0  modi promise minimum government maximum govern...      -1.0\n",
       "1             talk nonsense continue drama vote modi       0.0\n",
       "2  say vote modi welcome bjp tell rahul main camp...       1.0\n",
       "3  ask supporter prefix chowkidar name modi great...       1.0\n",
       "4  answer among powerful world leader today trump...       1.0"
      ]
     },
     "execution_count": 6,
     "metadata": {},
     "output_type": "execute_result"
    }
   ],
   "source": [
    "train_procreesed_data.head()"
   ]
  },
  {
   "cell_type": "code",
   "execution_count": 7,
   "metadata": {},
   "outputs": [],
   "source": [
    "cat1 = train_procreesed_data[train_procreesed_data[\"category\"] == -1].iloc[0:3550]\n",
    "cat2 = train_procreesed_data[train_procreesed_data[\"category\"] == 0].iloc[0:5515]\n",
    "cat3 = train_procreesed_data[train_procreesed_data[\"category\"] == 1].iloc[0:7224]"
   ]
  },
  {
   "cell_type": "code",
   "execution_count": 8,
   "metadata": {},
   "outputs": [],
   "source": [
    "train_data = cat1.append([cat2, cat3],ignore_index = True)"
   ]
  },
  {
   "cell_type": "code",
   "execution_count": 9,
   "metadata": {
    "scrolled": true
   },
   "outputs": [
    {
     "data": {
      "text/plain": [
       "(16289, 2)"
      ]
     },
     "execution_count": 9,
     "metadata": {},
     "output_type": "execute_result"
    }
   ],
   "source": [
    "train_data.shape"
   ]
  },
  {
   "cell_type": "code",
   "execution_count": 10,
   "metadata": {},
   "outputs": [],
   "source": [
    "from sklearn.feature_extraction.text import TfidfVectorizer"
   ]
  },
  {
   "cell_type": "code",
   "execution_count": 11,
   "metadata": {},
   "outputs": [],
   "source": [
    "tfidfvector=TfidfVectorizer(ngram_range=(2,2))                                     \n",
    "traindataset = tfidfvector.fit_transform(train_data['clean_text'])   "
   ]
  },
  {
   "cell_type": "code",
   "execution_count": 12,
   "metadata": {},
   "outputs": [],
   "source": [
    "from sklearn.model_selection import train_test_split, GridSearchCV,  KFold\n",
    "from sklearn.metrics import confusion_matrix                              \n",
    "from sklearn.metrics import accuracy_score                                \n",
    "from sklearn.metrics import roc_curve, auc                                "
   ]
  },
  {
   "cell_type": "code",
   "execution_count": 13,
   "metadata": {},
   "outputs": [
    {
     "data": {
      "text/plain": [
       "<16289x143526 sparse matrix of type '<class 'numpy.float64'>'\n",
       "\twith 224128 stored elements in Compressed Sparse Row format>"
      ]
     },
     "execution_count": 13,
     "metadata": {},
     "output_type": "execute_result"
    }
   ],
   "source": [
    "traindataset                                                              "
   ]
  },
  {
   "cell_type": "code",
   "execution_count": 14,
   "metadata": {},
   "outputs": [],
   "source": [
    "x = traindataset\n",
    "y = train_data['category'].values\n",
    "x_train, x_test, y_train, y_test = train_test_split(x,y,test_size =0.2, random_state=303)"
   ]
  },
  {
   "cell_type": "code",
   "execution_count": 15,
   "metadata": {},
   "outputs": [],
   "source": [
    "from sklearn import metrics\n",
    "def model_compare(model_name,model,y_test,y_pred,y_score, roc_auc = None):\n",
    "    binclass_metrics = {\n",
    "                        'Accuracy' : metrics.accuracy_score(y_test, y_pred),\n",
    "                        'Precision' : metrics.precision_score(y_test, y_pred),\n",
    "                        'Recall' : metrics.recall_score(y_test, y_pred),\n",
    "                        'F1 Score' : metrics.f1_score(y_test, y_pred),\n",
    "                        'ROC AUC' : roc_auc\n",
    "                       }\n",
    "\n",
    "    df_metrics = pd.DataFrame.from_dict(binclass_metrics, orient='index')\n",
    "    df_metrics.columns = [model_name] \n",
    "    return df_metrics"
   ]
  },
  {
   "cell_type": "markdown",
   "metadata": {},
   "source": [
    "## DecisionTree"
   ]
  },
  {
   "cell_type": "code",
   "execution_count": 52,
   "metadata": {},
   "outputs": [],
   "source": [
    "from sklearn.tree import DecisionTreeClassifier"
   ]
  },
  {
   "cell_type": "code",
   "execution_count": 53,
   "metadata": {
    "scrolled": true
   },
   "outputs": [
    {
     "name": "stdout",
     "output_type": "stream",
     "text": [
      "Best Parameters using grid search: \n",
      " {'criterion': 'gini', 'max_depth': 7, 'min_samples_leaf': 70}\n"
     ]
    }
   ],
   "source": [
    "model_dt = DecisionTreeClassifier(random_state=303)\n",
    "np.random.seed(303)\n",
    "# start = time.time()\n",
    "param_dist = {'max_depth': [2, 3, 4, 5, 6, 7],\n",
    "              'min_samples_leaf':[100,200,70, 30],\n",
    "              'criterion': ['gini', 'entropy']}\n",
    "\n",
    "cv_rf = GridSearchCV(model_dt, cv = 10,\n",
    "                     param_grid=param_dist, \n",
    "                     n_jobs = 1)\n",
    "\n",
    "cv_rf.fit(x_train, y_train)\n",
    "print('Best Parameters using grid search: \\n', cv_rf.best_params_)"
   ]
  },
  {
   "cell_type": "code",
   "execution_count": 54,
   "metadata": {},
   "outputs": [
    {
     "name": "stdout",
     "output_type": "stream",
     "text": [
      "Training score:  0.4682679763640549\n",
      "Testing score:  0.46838551258440764\n"
     ]
    }
   ],
   "source": [
    "model_dt = DecisionTreeClassifier(random_state=303,\n",
    "                                  max_depth=7, \n",
    "                                  criterion = 'gini', \n",
    "                                  min_samples_leaf=70 )\n",
    "model_dt.fit(x_train, y_train)\n",
    "model_dt_score_train = model_dt.score(x_train, y_train)\n",
    "print(\"Training score: \",model_dt_score_train)\n",
    "model_dt_score_test = model_dt.score(x_test, y_test)\n",
    "print(\"Testing score: \",model_dt_score_test)            "
   ]
  },
  {
   "cell_type": "code",
   "execution_count": 55,
   "metadata": {},
   "outputs": [
    {
     "name": "stdout",
     "output_type": "stream",
     "text": [
      "0.46838551258440764\n"
     ]
    }
   ],
   "source": [
    "y_pred = model_dt.predict(x_test)\n",
    "# Model Accuracy\n",
    "print (model_dt.score(x_test, y_test))"
   ]
  },
  {
   "cell_type": "code",
   "execution_count": 24,
   "metadata": {},
   "outputs": [
    {
     "data": {
      "text/plain": [
       "array([1., 1., 1., ..., 1., 1., 1.])"
      ]
     },
     "execution_count": 24,
     "metadata": {},
     "output_type": "execute_result"
    }
   ],
   "source": [
    "y_pred"
   ]
  },
  {
   "cell_type": "code",
   "execution_count": 57,
   "metadata": {},
   "outputs": [
    {
     "ename": "ValueError",
     "evalue": "multiclass format is not supported",
     "output_type": "error",
     "traceback": [
      "\u001b[1;31m---------------------------------------------------------------------------\u001b[0m",
      "\u001b[1;31mValueError\u001b[0m                                Traceback (most recent call last)",
      "\u001b[1;32m<ipython-input-57-658a33a5410e>\u001b[0m in \u001b[0;36m<module>\u001b[1;34m\u001b[0m\n\u001b[0;32m      1\u001b[0m \u001b[0my_pred\u001b[0m \u001b[1;33m=\u001b[0m \u001b[0mmodel_dt\u001b[0m\u001b[1;33m.\u001b[0m\u001b[0mpredict\u001b[0m\u001b[1;33m(\u001b[0m\u001b[0mx_test\u001b[0m\u001b[1;33m)\u001b[0m\u001b[1;33m\u001b[0m\u001b[1;33m\u001b[0m\u001b[0m\n\u001b[1;32m----> 2\u001b[1;33m \u001b[0mfpr_dt\u001b[0m\u001b[1;33m,\u001b[0m \u001b[0mtpr_dt\u001b[0m\u001b[1;33m,\u001b[0m \u001b[0m_\u001b[0m \u001b[1;33m=\u001b[0m \u001b[0mroc_curve\u001b[0m\u001b[1;33m(\u001b[0m\u001b[0my_test\u001b[0m\u001b[1;33m,\u001b[0m \u001b[0my_pred\u001b[0m\u001b[1;33m)\u001b[0m\u001b[1;33m\u001b[0m\u001b[1;33m\u001b[0m\u001b[0m\n\u001b[0m\u001b[0;32m      3\u001b[0m \u001b[0mroc_auc\u001b[0m \u001b[1;33m=\u001b[0m \u001b[0mauc\u001b[0m\u001b[1;33m(\u001b[0m\u001b[0mfpr_dt\u001b[0m\u001b[1;33m,\u001b[0m \u001b[0mtpr_dt\u001b[0m\u001b[1;33m)\u001b[0m\u001b[1;33m\u001b[0m\u001b[1;33m\u001b[0m\u001b[0m\n\u001b[0;32m      4\u001b[0m \u001b[0my_score\u001b[0m \u001b[1;33m=\u001b[0m \u001b[0maccuracy_score\u001b[0m\u001b[1;33m(\u001b[0m\u001b[0my_test\u001b[0m\u001b[1;33m,\u001b[0m \u001b[0my_pred\u001b[0m\u001b[1;33m)\u001b[0m\u001b[1;33m\u001b[0m\u001b[1;33m\u001b[0m\u001b[0m\n\u001b[0;32m      5\u001b[0m \u001b[0mmetrix_dt\u001b[0m \u001b[1;33m=\u001b[0m \u001b[0mmodel_compare\u001b[0m\u001b[1;33m(\u001b[0m\u001b[1;34m\"Decision Tree\"\u001b[0m\u001b[1;33m,\u001b[0m\u001b[0mmodel_dt\u001b[0m\u001b[1;33m,\u001b[0m \u001b[0my_test\u001b[0m\u001b[1;33m,\u001b[0m \u001b[0my_pred\u001b[0m\u001b[1;33m,\u001b[0m \u001b[0my_score\u001b[0m\u001b[1;33m,\u001b[0m \u001b[0mroc_auc\u001b[0m  \u001b[1;33m)\u001b[0m\u001b[1;33m\u001b[0m\u001b[1;33m\u001b[0m\u001b[0m\n",
      "\u001b[1;32mc:\\users\\melwin\\.conda\\envs\\tutorialdatascience\\lib\\site-packages\\sklearn\\utils\\validation.py\u001b[0m in \u001b[0;36minner_f\u001b[1;34m(*args, **kwargs)\u001b[0m\n\u001b[0;32m     61\u001b[0m             \u001b[0mextra_args\u001b[0m \u001b[1;33m=\u001b[0m \u001b[0mlen\u001b[0m\u001b[1;33m(\u001b[0m\u001b[0margs\u001b[0m\u001b[1;33m)\u001b[0m \u001b[1;33m-\u001b[0m \u001b[0mlen\u001b[0m\u001b[1;33m(\u001b[0m\u001b[0mall_args\u001b[0m\u001b[1;33m)\u001b[0m\u001b[1;33m\u001b[0m\u001b[1;33m\u001b[0m\u001b[0m\n\u001b[0;32m     62\u001b[0m             \u001b[1;32mif\u001b[0m \u001b[0mextra_args\u001b[0m \u001b[1;33m<=\u001b[0m \u001b[1;36m0\u001b[0m\u001b[1;33m:\u001b[0m\u001b[1;33m\u001b[0m\u001b[1;33m\u001b[0m\u001b[0m\n\u001b[1;32m---> 63\u001b[1;33m                 \u001b[1;32mreturn\u001b[0m \u001b[0mf\u001b[0m\u001b[1;33m(\u001b[0m\u001b[1;33m*\u001b[0m\u001b[0margs\u001b[0m\u001b[1;33m,\u001b[0m \u001b[1;33m**\u001b[0m\u001b[0mkwargs\u001b[0m\u001b[1;33m)\u001b[0m\u001b[1;33m\u001b[0m\u001b[1;33m\u001b[0m\u001b[0m\n\u001b[0m\u001b[0;32m     64\u001b[0m \u001b[1;33m\u001b[0m\u001b[0m\n\u001b[0;32m     65\u001b[0m             \u001b[1;31m# extra_args > 0\u001b[0m\u001b[1;33m\u001b[0m\u001b[1;33m\u001b[0m\u001b[1;33m\u001b[0m\u001b[0m\n",
      "\u001b[1;32mc:\\users\\melwin\\.conda\\envs\\tutorialdatascience\\lib\\site-packages\\sklearn\\metrics\\_ranking.py\u001b[0m in \u001b[0;36mroc_curve\u001b[1;34m(y_true, y_score, pos_label, sample_weight, drop_intermediate)\u001b[0m\n\u001b[0;32m    911\u001b[0m \u001b[1;33m\u001b[0m\u001b[0m\n\u001b[0;32m    912\u001b[0m     \"\"\"\n\u001b[1;32m--> 913\u001b[1;33m     fps, tps, thresholds = _binary_clf_curve(\n\u001b[0m\u001b[0;32m    914\u001b[0m         y_true, y_score, pos_label=pos_label, sample_weight=sample_weight)\n\u001b[0;32m    915\u001b[0m \u001b[1;33m\u001b[0m\u001b[0m\n",
      "\u001b[1;32mc:\\users\\melwin\\.conda\\envs\\tutorialdatascience\\lib\\site-packages\\sklearn\\metrics\\_ranking.py\u001b[0m in \u001b[0;36m_binary_clf_curve\u001b[1;34m(y_true, y_score, pos_label, sample_weight)\u001b[0m\n\u001b[0;32m    689\u001b[0m     if not (y_type == \"binary\" or\n\u001b[0;32m    690\u001b[0m             (y_type == \"multiclass\" and pos_label is not None)):\n\u001b[1;32m--> 691\u001b[1;33m         \u001b[1;32mraise\u001b[0m \u001b[0mValueError\u001b[0m\u001b[1;33m(\u001b[0m\u001b[1;34m\"{0} format is not supported\"\u001b[0m\u001b[1;33m.\u001b[0m\u001b[0mformat\u001b[0m\u001b[1;33m(\u001b[0m\u001b[0my_type\u001b[0m\u001b[1;33m)\u001b[0m\u001b[1;33m)\u001b[0m\u001b[1;33m\u001b[0m\u001b[1;33m\u001b[0m\u001b[0m\n\u001b[0m\u001b[0;32m    692\u001b[0m \u001b[1;33m\u001b[0m\u001b[0m\n\u001b[0;32m    693\u001b[0m     \u001b[0mcheck_consistent_length\u001b[0m\u001b[1;33m(\u001b[0m\u001b[0my_true\u001b[0m\u001b[1;33m,\u001b[0m \u001b[0my_score\u001b[0m\u001b[1;33m,\u001b[0m \u001b[0msample_weight\u001b[0m\u001b[1;33m)\u001b[0m\u001b[1;33m\u001b[0m\u001b[1;33m\u001b[0m\u001b[0m\n",
      "\u001b[1;31mValueError\u001b[0m: multiclass format is not supported"
     ]
    }
   ],
   "source": [
    "y_pred = model_dt.predict(x_test)\n",
    "fpr_dt, tpr_dt, _ = roc_curve(y_test, y_pred)\n",
    "roc_auc = auc(fpr_dt, tpr_dt)\n",
    "y_score = accuracy_score(y_test, y_pred)\n",
    "metrix_dt = model_compare(\"Decision Tree\",model_dt, y_test, y_pred, y_score, roc_auc  )\n",
    "metrix_dt"
   ]
  },
  {
   "cell_type": "markdown",
   "metadata": {},
   "source": [
    "## Random Forest"
   ]
  },
  {
   "cell_type": "code",
   "execution_count": 16,
   "metadata": {},
   "outputs": [],
   "source": [
    "from sklearn.ensemble import RandomForestClassifier"
   ]
  },
  {
   "cell_type": "code",
   "execution_count": 17,
   "metadata": {},
   "outputs": [],
   "source": [
    "model_rf = RandomForestClassifier(random_state=303)"
   ]
  },
  {
   "cell_type": "code",
   "execution_count": 60,
   "metadata": {},
   "outputs": [
    {
     "name": "stdout",
     "output_type": "stream",
     "text": [
      "Best Parameters using grid search: \n",
      " {'bootstrap': True, 'criterion': 'gini', 'max_depth': 8, 'max_features': None}\n"
     ]
    }
   ],
   "source": [
    "param_dist = {'max_depth': [3,4,5,7,8],\n",
    "              'bootstrap': [True, False],\n",
    "              'max_features': ['auto', 'sqrt', 'log2', None],\n",
    "              'criterion': ['gini', 'entropy']}\n",
    "\n",
    "cv_rf = GridSearchCV(model_rf, cv = 10,\n",
    "                     param_grid=param_dist, \n",
    "                     n_jobs = 1)\n",
    "\n",
    "cv_rf.fit(x_train, y_train)\n",
    "print('Best Parameters using grid search: \\n', cv_rf.best_params_)"
   ]
  },
  {
   "cell_type": "code",
   "execution_count": 18,
   "metadata": {},
   "outputs": [
    {
     "data": {
      "text/plain": [
       "RandomForestClassifier(max_depth=8, max_features=None, random_state=303)"
      ]
     },
     "execution_count": 18,
     "metadata": {},
     "output_type": "execute_result"
    }
   ],
   "source": [
    "model_rf.set_params(criterion    = 'gini',\n",
    "                    max_features = None, \n",
    "                    max_depth    = 8,\n",
    "                    bootstrap    = True\n",
    "                   )"
   ]
  },
  {
   "cell_type": "code",
   "execution_count": 19,
   "metadata": {},
   "outputs": [
    {
     "data": {
      "text/plain": [
       "RandomForestClassifier(max_depth=8, max_features=None, n_estimators=1500,\n",
       "                       random_state=303)"
      ]
     },
     "execution_count": 19,
     "metadata": {},
     "output_type": "execute_result"
    }
   ],
   "source": [
    "model_rf.set_params(n_estimators=1500,\n",
    "                  bootstrap = True,\n",
    "                  warm_start=False, \n",
    "                  oob_score=False)"
   ]
  },
  {
   "cell_type": "code",
   "execution_count": 20,
   "metadata": {},
   "outputs": [
    {
     "data": {
      "text/plain": [
       "RandomForestClassifier(max_depth=8, max_features=None, n_estimators=1500,\n",
       "                       random_state=303)"
      ]
     },
     "execution_count": 20,
     "metadata": {},
     "output_type": "execute_result"
    }
   ],
   "source": [
    "model_rf.fit(x_train, y_train)"
   ]
  },
  {
   "cell_type": "code",
   "execution_count": 21,
   "metadata": {},
   "outputs": [],
   "source": [
    "prediction_test = model_rf.predict(x_test)\n",
    "y_score= metrics.accuracy_score(y_test, prediction_test)"
   ]
  },
  {
   "cell_type": "code",
   "execution_count": 22,
   "metadata": {},
   "outputs": [
    {
     "data": {
      "text/plain": [
       "0.48158379373848986"
      ]
     },
     "execution_count": 22,
     "metadata": {},
     "output_type": "execute_result"
    }
   ],
   "source": [
    "y_score"
   ]
  },
  {
   "cell_type": "code",
   "execution_count": 23,
   "metadata": {},
   "outputs": [],
   "source": [
    "from sklearn.metrics import accuracy_score, precision_score, recall_score, f1_score"
   ]
  },
  {
   "cell_type": "code",
   "execution_count": 25,
   "metadata": {},
   "outputs": [
    {
     "name": "stdout",
     "output_type": "stream",
     "text": [
      "\n",
      "Accuracy: 0.48\n",
      "\n",
      "Micro Precision: 0.48\n",
      "Micro Recall: 0.48\n",
      "Micro F1-score: 0.48\n",
      "\n",
      "Macro Precision: 0.60\n",
      "Macro Recall: 0.38\n",
      "Macro F1-score: 0.32\n",
      "\n",
      "Weighted Precision: 0.58\n",
      "Weighted Recall: 0.48\n",
      "Weighted F1-score: 0.37\n"
     ]
    }
   ],
   "source": [
    "print('\\nAccuracy: {:.2f}\\n'.format(accuracy_score(y_test, prediction_test)))\n",
    "\n",
    "print('Micro Precision: {:.2f}'.format(precision_score(y_test, prediction_test, average='micro')))\n",
    "print('Micro Recall: {:.2f}'.format(recall_score(y_test, prediction_test, average='micro')))\n",
    "print('Micro F1-score: {:.2f}\\n'.format(f1_score(y_test, prediction_test, average='micro')))\n",
    "\n",
    "print('Macro Precision: {:.2f}'.format(precision_score(y_test, prediction_test, average='macro')))\n",
    "print('Macro Recall: {:.2f}'.format(recall_score(y_test, prediction_test, average='macro')))\n",
    "print('Macro F1-score: {:.2f}\\n'.format(f1_score(y_test, prediction_test, average='macro')))\n",
    "\n",
    "print('Weighted Precision: {:.2f}'.format(precision_score(y_test, prediction_test, average='weighted')))\n",
    "print('Weighted Recall: {:.2f}'.format(recall_score(y_test, prediction_test, average='weighted')))\n",
    "print('Weighted F1-score: {:.2f}'.format(f1_score(y_test, prediction_test, average='weighted')))"
   ]
  },
  {
   "cell_type": "code",
   "execution_count": 26,
   "metadata": {},
   "outputs": [
    {
     "name": "stdout",
     "output_type": "stream",
     "text": [
      "\n",
      "Classification Report\n",
      "\n",
      "              precision    recall  f1-score   support\n",
      "\n",
      "Negatice  -1       0.70      0.08      0.15       703\n",
      "   Neutral 0       0.64      0.11      0.19      1099\n",
      "  Positive 1       0.47      0.96      0.63      1456\n",
      "\n",
      "    accuracy                           0.48      3258\n",
      "   macro avg       0.60      0.38      0.32      3258\n",
      "weighted avg       0.58      0.48      0.37      3258\n",
      "\n"
     ]
    }
   ],
   "source": [
    "from sklearn.metrics import classification_report\n",
    "print('\\nClassification Report\\n')\n",
    "print(classification_report(y_test, prediction_test, target_names=['Negatice  -1', ' Neutral 0', 'Positive 1']))"
   ]
  },
  {
   "cell_type": "markdown",
   "metadata": {},
   "source": [
    "## NavyBayes Classifier"
   ]
  },
  {
   "cell_type": "code",
   "execution_count": 27,
   "metadata": {},
   "outputs": [],
   "source": [
    "from sklearn.naive_bayes import MultinomialNB"
   ]
  },
  {
   "cell_type": "code",
   "execution_count": 28,
   "metadata": {},
   "outputs": [],
   "source": [
    "model_nb = MultinomialNB()"
   ]
  },
  {
   "cell_type": "code",
   "execution_count": 29,
   "metadata": {
    "scrolled": true
   },
   "outputs": [
    {
     "data": {
      "text/plain": [
       "MultinomialNB()"
      ]
     },
     "execution_count": 29,
     "metadata": {},
     "output_type": "execute_result"
    }
   ],
   "source": [
    "model_nb.fit(x_train, y_train)"
   ]
  },
  {
   "cell_type": "code",
   "execution_count": 33,
   "metadata": {},
   "outputs": [],
   "source": [
    "prediction_test = model_nb.predict(x_test)\n",
    "y_score= metrics.accuracy_score(y_test, prediction_test)"
   ]
  },
  {
   "cell_type": "code",
   "execution_count": 34,
   "metadata": {},
   "outputs": [
    {
     "data": {
      "text/plain": [
       "0.5276243093922652"
      ]
     },
     "execution_count": 34,
     "metadata": {},
     "output_type": "execute_result"
    }
   ],
   "source": [
    "y_score"
   ]
  },
  {
   "cell_type": "code",
   "execution_count": 35,
   "metadata": {},
   "outputs": [
    {
     "name": "stdout",
     "output_type": "stream",
     "text": [
      "\n",
      "Accuracy: 0.53\n",
      "\n",
      "Micro Precision: 0.53\n",
      "Micro Recall: 0.53\n",
      "Micro F1-score: 0.53\n",
      "\n",
      "Macro Precision: 0.68\n",
      "Macro Recall: 0.43\n",
      "Macro F1-score: 0.40\n",
      "\n",
      "Weighted Precision: 0.63\n",
      "Weighted Recall: 0.53\n",
      "Weighted F1-score: 0.46\n",
      "\n",
      "Classification Report\n",
      "\n",
      "              precision    recall  f1-score   support\n",
      "\n",
      "Negatice  -1       0.94      0.07      0.12       703\n",
      "   Neutral 0       0.58      0.35      0.44      1099\n",
      "  Positive 1       0.51      0.88      0.64      1456\n",
      "\n",
      "    accuracy                           0.53      3258\n",
      "   macro avg       0.68      0.43      0.40      3258\n",
      "weighted avg       0.63      0.53      0.46      3258\n",
      "\n"
     ]
    }
   ],
   "source": [
    "print('\\nAccuracy: {:.2f}\\n'.format(accuracy_score(y_test, prediction_test)))\n",
    "\n",
    "print('Micro Precision: {:.2f}'.format(precision_score(y_test, prediction_test, average='micro')))\n",
    "print('Micro Recall: {:.2f}'.format(recall_score(y_test, prediction_test, average='micro')))\n",
    "print('Micro F1-score: {:.2f}\\n'.format(f1_score(y_test, prediction_test, average='micro')))\n",
    "\n",
    "print('Macro Precision: {:.2f}'.format(precision_score(y_test, prediction_test, average='macro')))\n",
    "print('Macro Recall: {:.2f}'.format(recall_score(y_test, prediction_test, average='macro')))\n",
    "print('Macro F1-score: {:.2f}\\n'.format(f1_score(y_test, prediction_test, average='macro')))\n",
    "\n",
    "print('Weighted Precision: {:.2f}'.format(precision_score(y_test, prediction_test, average='weighted')))\n",
    "print('Weighted Recall: {:.2f}'.format(recall_score(y_test, prediction_test, average='weighted')))\n",
    "print('Weighted F1-score: {:.2f}'.format(f1_score(y_test, prediction_test, average='weighted')))\n",
    "print('\\nClassification Report\\n')\n",
    "print(classification_report(y_test, prediction_test, target_names=['Negatice  -1', ' Neutral 0', 'Positive 1']))"
   ]
  },
  {
   "cell_type": "code",
   "execution_count": 29,
   "metadata": {},
   "outputs": [
    {
     "data": {
      "text/plain": [
       "clean_text              0\n",
       "category                0\n",
       "clean_processed_text    0\n",
       "dtype: int64"
      ]
     },
     "execution_count": 29,
     "metadata": {},
     "output_type": "execute_result"
    }
   ],
   "source": [
    "train_data.isnull().sum()"
   ]
  },
  {
   "cell_type": "markdown",
   "metadata": {},
   "source": [
    "## Training completely on the Data"
   ]
  },
  {
   "cell_type": "code",
   "execution_count": 37,
   "metadata": {},
   "outputs": [],
   "source": [
    "tfidfvector=TfidfVectorizer(ngram_range=(2,2))                                     \n",
    "traindataset_completedata = tfidfvector.fit_transform(train_procreesed_data['clean_text']) "
   ]
  },
  {
   "cell_type": "code",
   "execution_count": 38,
   "metadata": {},
   "outputs": [],
   "source": [
    "x = traindataset_completedata\n",
    "y = train_procreesed_data['category'].values\n",
    "x_train, x_test, y_train, y_test = train_test_split(x,y,test_size =0.2, random_state=303)"
   ]
  },
  {
   "cell_type": "code",
   "execution_count": 39,
   "metadata": {},
   "outputs": [],
   "source": [
    "new_model_nb = MultinomialNB()"
   ]
  },
  {
   "cell_type": "code",
   "execution_count": 40,
   "metadata": {},
   "outputs": [
    {
     "data": {
      "text/plain": [
       "MultinomialNB()"
      ]
     },
     "execution_count": 40,
     "metadata": {},
     "output_type": "execute_result"
    }
   ],
   "source": [
    "new_model_nb.fit(x_train, y_train)"
   ]
  },
  {
   "cell_type": "code",
   "execution_count": 41,
   "metadata": {},
   "outputs": [],
   "source": [
    "prediction_test = new_model_nb.predict(x_test)\n",
    "y_score= metrics.accuracy_score(y_test, prediction_test)"
   ]
  },
  {
   "cell_type": "code",
   "execution_count": 42,
   "metadata": {},
   "outputs": [
    {
     "data": {
      "text/plain": [
       "0.5606641907860409"
      ]
     },
     "execution_count": 42,
     "metadata": {},
     "output_type": "execute_result"
    }
   ],
   "source": [
    "y_score"
   ]
  },
  {
   "cell_type": "code",
   "execution_count": 46,
   "metadata": {},
   "outputs": [],
   "source": [
    "from sklearn.metrics import confusion_matrix\n",
    "confusion = confusion_matrix(y_test, prediction_test)"
   ]
  },
  {
   "cell_type": "code",
   "execution_count": 47,
   "metadata": {},
   "outputs": [
    {
     "name": "stdout",
     "output_type": "stream",
     "text": [
      "Confusion Matrix\n",
      "\n",
      "[[  660  1014  5460]\n",
      " [   17  4296  6665]\n",
      " [   36  1122 13311]]\n",
      "\n",
      "Accuracy: 0.56\n",
      "\n",
      "Micro Precision: 0.56\n",
      "Micro Recall: 0.56\n",
      "Micro F1-score: 0.56\n",
      "\n",
      "Macro Precision: 0.71\n",
      "Macro Recall: 0.47\n",
      "Macro F1-score: 0.44\n",
      "\n",
      "Weighted Precision: 0.66\n",
      "Weighted Recall: 0.56\n",
      "Weighted F1-score: 0.50\n",
      "\n",
      "Classification Report\n",
      "\n",
      "              precision    recall  f1-score   support\n",
      "\n",
      "        -1.0       0.93      0.09      0.17      7134\n",
      "         0.0       0.67      0.39      0.49     10978\n",
      "         1.0       0.52      0.92      0.67     14469\n",
      "\n",
      "    accuracy                           0.56     32581\n",
      "   macro avg       0.71      0.47      0.44     32581\n",
      "weighted avg       0.66      0.56      0.50     32581\n",
      "\n"
     ]
    }
   ],
   "source": [
    "print('Confusion Matrix\\n')\n",
    "print(confusion)\n",
    "print('\\nAccuracy: {:.2f}\\n'.format(accuracy_score(y_test, prediction_test)))\n",
    "\n",
    "print('Micro Precision: {:.2f}'.format(precision_score(y_test, prediction_test, average='micro')))\n",
    "print('Micro Recall: {:.2f}'.format(recall_score(y_test, prediction_test, average='micro')))\n",
    "print('Micro F1-score: {:.2f}\\n'.format(f1_score(y_test, prediction_test, average='micro')))\n",
    "\n",
    "print('Macro Precision: {:.2f}'.format(precision_score(y_test, prediction_test, average='macro')))\n",
    "print('Macro Recall: {:.2f}'.format(recall_score(y_test, prediction_test, average='macro')))\n",
    "print('Macro F1-score: {:.2f}\\n'.format(f1_score(y_test, prediction_test, average='macro')))\n",
    "\n",
    "print('Weighted Precision: {:.2f}'.format(precision_score(y_test, prediction_test, average='weighted')))\n",
    "print('Weighted Recall: {:.2f}'.format(recall_score(y_test, prediction_test, average='weighted')))\n",
    "print('Weighted F1-score: {:.2f}'.format(f1_score(y_test, prediction_test, average='weighted')))\n",
    "print('\\nClassification Report\\n')\n",
    "print(classification_report(y_test, prediction_test))\n",
    "# , target_names=['Negatice  -1', ' Neutral 0', 'Positive 1']"
   ]
  },
  {
   "cell_type": "code",
   "execution_count": 54,
   "metadata": {},
   "outputs": [],
   "source": [
    "# Saving the TFIDF In a file\n",
    "import pickle"
   ]
  },
  {
   "cell_type": "code",
   "execution_count": 55,
   "metadata": {},
   "outputs": [],
   "source": [
    "#Save vectorizer.vocabulary_\n",
    "pickle.dump(tfidfvector.vocabulary_,open(\"../data/tfidfvector.pkl\",\"wb\"))"
   ]
  },
  {
   "cell_type": "code",
   "execution_count": 56,
   "metadata": {},
   "outputs": [],
   "source": [
    "filename_path = '../data/finalized_model.sav'\n",
    "pickle.dump(new_model_nb, open(filename_path, 'wb'))"
   ]
  },
  {
   "cell_type": "code",
   "execution_count": 57,
   "metadata": {},
   "outputs": [
    {
     "data": {
      "text/plain": [
       "{'modi promise': 556350,\n",
       " 'promise minimum': 686245,\n",
       " 'minimum government': 539475,\n",
       " 'government maximum': 353531,\n",
       " 'maximum governance': 525842,\n",
       " 'governance expect': 352389,\n",
       " 'expect begin': 289766,\n",
       " 'begin difficult': 96199,\n",
       " 'difficult job': 239702,\n",
       " 'job reform': 444757,\n",
       " 'reform state': 719408,\n",
       " 'state take': 819103,\n",
       " 'take year': 845952,\n",
       " 'year get': 955826,\n",
       " 'get justice': 339920,\n",
       " 'justice state': 449911,\n",
       " 'state business': 818316,\n",
       " 'business exit': 130440,\n",
       " 'exit psus': 289562,\n",
       " 'psus temple': 692563,\n",
       " 'talk nonsense': 847145,\n",
       " 'nonsense continue': 601066,\n",
       " 'continue drama': 189001,\n",
       " 'drama vote': 252345,\n",
       " 'vote modi': 919435,\n",
       " 'say vote': 758627,\n",
       " 'modi welcome': 559614,\n",
       " 'welcome bjp': 932313,\n",
       " 'bjp tell': 113392,\n",
       " 'tell rahul': 854125,\n",
       " 'rahul main': 703340,\n",
       " 'main campaigner': 510322,\n",
       " 'campaigner modi': 135778,\n",
       " 'modi think': 558664,\n",
       " 'think modi': 865515,\n",
       " 'modi relax': 556790,\n",
       " 'ask supporter': 70042,\n",
       " 'supporter prefix': 837048,\n",
       " 'prefix chowkidar': 676348,\n",
       " 'chowkidar name': 159206,\n",
       " 'name modi': 580894,\n",
       " 'modi great': 552099,\n",
       " 'great service': 359590,\n",
       " 'service confusion': 776801,\n",
       " 'confusion read': 180058,\n",
       " 'read crustal': 712033,\n",
       " 'crustal clear': 208710,\n",
       " 'clear crass': 164389,\n",
       " 'crass filthy': 201869,\n",
       " 'filthy nonsensical': 310845,\n",
       " 'nonsensical see': 601276,\n",
       " 'see abuse': 768852,\n",
       " 'abuse come': 20681,\n",
       " 'come chowkidar': 169069,\n",
       " 'answer among': 54786,\n",
       " 'among powerful': 49356,\n",
       " 'powerful world': 673010,\n",
       " 'world leader': 948164,\n",
       " 'leader today': 477940,\n",
       " 'today trump': 876563,\n",
       " 'trump putin': 887222,\n",
       " 'putin modi': 697079,\n",
       " 'modi may': 554592,\n",
       " 'kiya tho': 462688,\n",
       " 'tho refresh': 867089,\n",
       " 'refresh maarkefir': 719500,\n",
       " 'maarkefir comment': 507591,\n",
       " 'comment karo': 171470,\n",
       " 'surat woman': 837847,\n",
       " 'woman perform': 943712,\n",
       " 'perform yagna': 646938,\n",
       " 'yagna seek': 954323,\n",
       " 'seek divine': 771187,\n",
       " 'divine grace': 246597,\n",
       " 'grace narendra': 357820,\n",
       " 'narendra modi': 582316,\n",
       " 'modi become': 548382,\n",
       " 'come cabinet': 169022,\n",
       " 'cabinet scholar': 132375,\n",
       " 'scholar like': 762026,\n",
       " 'like modi': 490110,\n",
       " 'modi smriti': 557857,\n",
       " 'smriti hema': 800921,\n",
       " 'hema time': 383316,\n",
       " 'time introspect': 873004,\n",
       " 'upcoming election': 902558,\n",
       " 'election india': 266538,\n",
       " 'india saga': 414667,\n",
       " 'saga go': 748893,\n",
       " 'go important': 346931,\n",
       " 'important pair': 406275,\n",
       " 'pair look': 627241,\n",
       " 'look current': 500044,\n",
       " 'current modi': 210344,\n",
       " 'modi lead': 554070,\n",
       " 'lead govt': 476168,\n",
       " 'govt elect': 355351,\n",
       " 'elect deal': 265229,\n",
       " 'deal brexit': 217270,\n",
       " 'brexit combination': 124095,\n",
       " 'combination weekly': 168601,\n",
       " 'weekly look': 932140,\n",
       " 'look juicy': 500334,\n",
       " 'juicy bear': 448714,\n",
       " 'bear imho': 93067,\n",
       " 'gandhi gay': 332962,\n",
       " 'gay modi': 336463,\n",
       " 'thing like': 863896,\n",
       " 'like demonetisation': 488905,\n",
       " 'demonetisation gst': 228196,\n",
       " 'gst good': 362204,\n",
       " 'good service': 350748,\n",
       " 'service taxthe': 776944,\n",
       " 'taxthe upper': 850273,\n",
       " 'upper caste': 903284,\n",
       " 'caste would': 141941,\n",
       " 'would sort': 951200,\n",
       " 'sort either': 806730,\n",
       " 'either view': 264847,\n",
       " 'view favourably': 913786,\n",
       " 'favourably say': 305066,\n",
       " 'say need': 757546,\n",
       " 'need give': 589470,\n",
       " 'give time': 345063,\n",
       " 'time caste': 872353,\n",
       " 'caste like': 141849,\n",
       " 'like dalit': 488845,\n",
       " 'dalit muslims': 212362,\n",
       " 'muslims modi': 576573,\n",
       " 'modi constituency2': 549705,\n",
       " 'hope tuthukudi': 394140,\n",
       " 'tuthukudi people': 891032,\n",
       " 'people would': 645588,\n",
       " 'would prefer': 950960,\n",
       " 'prefer honest': 676203,\n",
       " 'honest well': 392774,\n",
       " 'well behave': 932833,\n",
       " 'behave nationalist': 96627,\n",
       " 'nationalist courageous': 585956,\n",
       " 'courageous likly': 199372,\n",
       " 'likly minister': 492062,\n",
       " 'minister modi': 540214,\n",
       " 'modi cabinet': 549008,\n",
       " 'cabinet vote': 132403,\n",
       " 'vote benifit': 918501,\n",
       " 'benifit thuthukudi': 100108,\n",
       " 'calm water': 134570,\n",
       " 'water where': 928532,\n",
       " 'where modi': 935948,\n",
       " 'modi wave': 559566,\n",
       " 'one vote': 616225,\n",
       " 'vote make': 919361,\n",
       " 'make difference': 512270,\n",
       " 'difference anil': 238591,\n",
       " 'anil kapoor': 51782,\n",
       " 'kapoor answer': 452302,\n",
       " 'answer modis': 55110,\n",
       " 'modis election': 562754,\n",
       " 'election 2019': 265580,\n",
       " '2019 clarion': 8226,\n",
       " 'clarion call': 163236,\n",
       " 'call extend': 133376,\n",
       " 'extend support': 292789,\n",
       " 'support vote': 836491,\n",
       " 'vote kar': 919244,\n",
       " 'kar campaign': 452360,\n",
       " 'support campaign': 835331,\n",
       " 'vote party': 919668,\n",
       " 'party leadershipwho': 636604,\n",
       " 'leadershipwho take': 478713,\n",
       " 'take fast': 844848,\n",
       " 'fast firm': 303641,\n",
       " 'firm action': 313248,\n",
       " 'action none': 27387,\n",
       " 'none narendra': 600758,\n",
       " 'narendra damodardas': 582285,\n",
       " 'damodardas modi': 212916,\n",
       " 'modi bjp': 548666,\n",
       " 'bjp party': 112705,\n",
       " 'modi create': 549850,\n",
       " 'create job': 202458,\n",
       " 'vote ensure': 918917,\n",
       " 'ensure govt': 274881,\n",
       " 'govt need': 356056,\n",
       " 'need deserve': 589250,\n",
       " 'deserve anupam': 231233,\n",
       " 'anupam kher': 57365,\n",
       " 'kher responds': 458967,\n",
       " 'responds modis': 731624,\n",
       " 'modis appeal': 562428,\n",
       " 'appeal 2019': 60711,\n",
       " '2019 election': 8332,\n",
       " 'do nt': 248184,\n",
       " 'nt play': 606863,\n",
       " 'play word': 656522,\n",
       " 'word talk': 945258,\n",
       " 'talk modi': 847090,\n",
       " 'modi swamy': 558360,\n",
       " 'swamy relation': 841214,\n",
       " 'relation guru': 721882,\n",
       " 'guru say': 365241,\n",
       " 'say good': 756851,\n",
       " 'good chowkidar': 349642,\n",
       " 'chowkidar protect': 159347,\n",
       " 'protect good': 689775,\n",
       " 'good mind': 350339,\n",
       " 'mind tweet': 538946,\n",
       " 'tweet dark': 891413,\n",
       " 'dark side': 213937,\n",
       " 'side terrorism': 790054,\n",
       " 'terrorism bright': 856824,\n",
       " 'bright side': 124618,\n",
       " 'side well': 790100,\n",
       " 'well know': 933546,\n",
       " 'write chowkidar': 951985,\n",
       " 'chowkidar mean': 159162,\n",
       " 'mean anti': 528011,\n",
       " 'anti modi': 55708,\n",
       " 'modi try': 558922,\n",
       " 'try visit': 889227,\n",
       " 'visit plz': 917205,\n",
       " 'plz use': 658748,\n",
       " 'use anti': 904611,\n",
       " 'one recently': 615727,\n",
       " 'recently say': 716882,\n",
       " 'say people': 757718,\n",
       " 'people vote': 645506,\n",
       " 'modi anti': 547788,\n",
       " 'anti national': 55748,\n",
       " 'national put': 585394,\n",
       " 'put gen': 696627,\n",
       " 'gen hooda': 337192,\n",
       " 'hooda congress': 393370,\n",
       " 'congress supporter': 184315,\n",
       " 'supporter jawan': 836889,\n",
       " 'jawan support': 439942,\n",
       " 'support modi': 835949,\n",
       " 'national great': 585162,\n",
       " 'great thing': 359692,\n",
       " 'thing hear': 863777,\n",
       " 'firm belief': 313251,\n",
       " 'belief leadership': 97490,\n",
       " 'leadership shri': 478588,\n",
       " 'shri narendra': 788438,\n",
       " 'bjp enter': 111715,\n",
       " 'enter politic': 275223,\n",
       " 'politic give': 662547,\n",
       " 'give form': 343738,\n",
       " 'form file': 322007,\n",
       " 'file nomination': 309988,\n",
       " 'nomination khammam': 600224,\n",
       " 'khammam parliamentary': 458001,\n",
       " 'parliamentary seat': 634371,\n",
       " 'seat proceeding': 766007,\n",
       " 'proceeding khammam': 682649,\n",
       " 'khammam today': 458003,\n",
       " 'crush jaw': 208671,\n",
       " 'jaw shoutmodimodi': 439709,\n",
       " 'shoutmodimodi say': 786589,\n",
       " 'say jds': 757120,\n",
       " 'jds mla': 440408,\n",
       " 'mla incite': 545261,\n",
       " 'incite murder': 408605,\n",
       " 'sultanpur uttar': 833747,\n",
       " 'uttar pradesh': 907232,\n",
       " 'pradesh loksabha': 674443,\n",
       " 'loksabha candidate': 498453,\n",
       " 'candidate select': 136813,\n",
       " 'select pawan': 772408,\n",
       " 'pawan kumar': 640500,\n",
       " 'kumar pandey': 467478,\n",
       " 'pandey actually': 631111,\n",
       " 'actually public': 28808,\n",
       " 'public want': 693475,\n",
       " 'want give': 924684,\n",
       " 'give vote': 345195,\n",
       " 'modi current': 549933,\n",
       " 'current condidate': 210242,\n",
       " 'condidate popular': 177986,\n",
       " 'popular district': 667347,\n",
       " 'district candidate': 245911,\n",
       " 'candidate bsp': 136367,\n",
       " 'bsp candidate': 127224,\n",
       " 'candidate sonbhadra': 136841,\n",
       " 'sonbhadra singh': 805165,\n",
       " 'thiugh nehru': 866866,\n",
       " 'nehru alive': 591309,\n",
       " 'alive still': 40225,\n",
       " 'still alive': 821991,\n",
       " 'alive heart': 40178,\n",
       " 'heart modi': 380655,\n",
       " 'modi every': 551017,\n",
       " 'every failure': 283399,\n",
       " 'failure nehru': 297599,\n",
       " 'nehru responsible': 591988,\n",
       " 'development become': 235305,\n",
       " 'become mass': 94695,\n",
       " 'mass movement': 523099,\n",
       " 'movement modi': 570883,\n",
       " 'modi govt': 551961,\n",
       " 'govt economic': 355337,\n",
       " 'economic social': 260900,\n",
       " 'social political': 801636,\n",
       " 'political empowerment': 663389,\n",
       " 'empowerment life': 271118,\n",
       " 'life one': 487300,\n",
       " 'one witness': 616275,\n",
       " 'witness positive': 943069,\n",
       " 'positive paradigm': 668769,\n",
       " 'paradigm shift': 633294,\n",
       " 'shift new': 783998,\n",
       " 'new india': 595201,\n",
       " 'already take': 43827,\n",
       " 'take notice': 845280,\n",
       " 'notice order': 604142,\n",
       " 'order probe': 621819,\n",
       " 'probe time': 681760,\n",
       " 'time modi': 873259,\n",
       " 'modi take': 558421,\n",
       " 'notice muslim': 604126,\n",
       " 'muslim family': 575861,\n",
       " 'family harass': 300268,\n",
       " 'harass beat': 374156,\n",
       " 'beat recently': 93500,\n",
       " 'recently extremist': 716813,\n",
       " 'extremist hindus': 293604,\n",
       " 'hindus suggest': 388370,\n",
       " 'suggest leave': 833066,\n",
       " 'leave india': 480396,\n",
       " 'india move': 413867,\n",
       " 'move pakistan': 570628,\n",
       " 'wait modi': 922544,\n",
       " 'modi also': 547634,\n",
       " 'also talk': 45588,\n",
       " 'talk varanasi': 847571,\n",
       " 'accord yogi': 22752,\n",
       " 'yogi imran': 959715,\n",
       " 'imran masood': 407355,\n",
       " 'masood kin': 522978,\n",
       " 'kin azhar': 460965,\n",
       " 'azhar masood': 79711,\n",
       " 'masood accord': 522929,\n",
       " 'accord logic': 22591,\n",
       " 'logic nirav': 497918,\n",
       " 'nirav modi': 598993,\n",
       " 'modi lalit': 553995,\n",
       " 'lalit modi': 471114,\n",
       " 'modi narendra': 555148,\n",
       " 'modi brother': 548913,\n",
       " 'brother mother': 126735,\n",
       " 'agree tenure': 36572,\n",
       " 'tenure modiganga': 855337,\n",
       " 'modiganga rejuvenation': 560749,\n",
       " 'rejuvenation work': 721570,\n",
       " 'work start': 946836,\n",
       " 'start work': 817905,\n",
       " 'three code': 868895,\n",
       " 'code modi': 167189,\n",
       " 'modi crack': 549840,\n",
       " 'crack give': 201574,\n",
       " 'give india': 343961,\n",
       " 'india huge': 413237,\n",
       " 'huge foreign': 396850,\n",
       " 'foreign policy': 320639,\n",
       " 'policy jumpstart': 661792,\n",
       " 'jumpstart via': 449467,\n",
       " 'modis vote': 563684,\n",
       " 'kar appeal': 452338,\n",
       " 'modi govts': 552039,\n",
       " 'govts slash': 357365,\n",
       " 'slash indias': 798684,\n",
       " 'indias education': 418452,\n",
       " 'education budget': 263000,\n",
       " 'budget clear': 128032,\n",
       " 'clear indicator': 164501,\n",
       " 'indicator do': 419083,\n",
       " 'nt care': 605594,\n",
       " 'care indias': 139392,\n",
       " 'indias future': 418488,\n",
       " 'future congress': 330392,\n",
       " 'congress president': 183847,\n",
       " 'president shri': 677757,\n",
       " 'shri hand': 788384,\n",
       " 'hand ensure': 370893,\n",
       " 'ensure increase': 274903,\n",
       " 'increase budget': 409956,\n",
       " 'budget gdp': 128079,\n",
       " 'gdp future': 336881,\n",
       " 'future india': 330504,\n",
       " 'india deserve': 412447,\n",
       " 'bear religion': 93156,\n",
       " 'religion female': 723152,\n",
       " 'female deity': 307949,\n",
       " 'deity worship': 224943,\n",
       " 'worship misogynistic': 949564,\n",
       " 'misogynistic sadistic': 542687,\n",
       " 'sadistic tradition': 748096,\n",
       " 'tradition totally': 881576,\n",
       " 'totally point': 879894,\n",
       " 'point isit': 660285,\n",
       " 'isit man': 432819,\n",
       " 'man make': 516607,\n",
       " 'make tradition': 513893,\n",
       " 'tradition write': 881580,\n",
       " 'write one': 952230,\n",
       " 'one religious': 615742,\n",
       " 'religious lunatic': 723459,\n",
       " 'lunatic support': 506427,\n",
       " 'support religion': 836214,\n",
       " 'religion repressive': 723298,\n",
       " 'people make': 644498,\n",
       " 'make amazedn': 511742,\n",
       " 'amazedn fear': 47253,\n",
       " 'fear frustation': 305491,\n",
       " 'frustation may': 327379,\n",
       " 'may result': 526798,\n",
       " 'result vote': 733662,\n",
       " 'vote sir': 919994,\n",
       " 'sir waste': 796168,\n",
       " 'waste ministerdisgrace': 927081,\n",
       " 'ministerdisgrace entire': 540710,\n",
       " 'entire modi': 275712,\n",
       " 'check late': 152252,\n",
       " 'late article': 473414,\n",
       " 'article premier': 66988,\n",
       " 'premier archery': 676496,\n",
       " 'archery league': 63295,\n",
       " 'league via': 478889,\n",
       " 'india second': 414730,\n",
       " 'second optimistic': 766629,\n",
       " 'optimistic globally': 620923,\n",
       " 'globally executive': 345849,\n",
       " 'executive job': 288926,\n",
       " 'job growth': 444325,\n",
       " 'growth show': 361846,\n",
       " 'show survey': 787832,\n",
       " 'survey indias': 839912,\n",
       " 'indias senior': 418685,\n",
       " 'senior executive': 774530,\n",
       " 'executive say': 288940,\n",
       " 'say optimistic': 757645,\n",
       " 'optimistic growth': 620924,\n",
       " 'growth number': 361782,\n",
       " 'number job': 608190,\n",
       " 'job role': 444791,\n",
       " 'role year': 741026,\n",
       " 'people wish': 645567,\n",
       " 'wish vision': 941656,\n",
       " 'vision india': 916486,\n",
       " 'india least': 413570,\n",
       " 'least interested': 479786,\n",
       " 'interested personal': 428222,\n",
       " 'personal enmity': 649169,\n",
       " 'enmity modi': 273982,\n",
       " 'modi other': 555607,\n",
       " 'other personal': 623372,\n",
       " 'personal problem': 649267,\n",
       " 'problem handle': 682056,\n",
       " 'handle personally': 371629,\n",
       " 'personally do': 649549,\n",
       " 'nt expect': 606078,\n",
       " 'expect nation': 290091,\n",
       " 'nation join': 584031,\n",
       " 'join dirty': 445595,\n",
       " 'dirty fight': 242115,\n",
       " 'fight other': 309225,\n",
       " 'other tell': 623484,\n",
       " 'tell vote': 854370,\n",
       " 'modi eternal': 550990,\n",
       " 'eternal wrong': 279672,\n",
       " 'wrong dear': 952798,\n",
       " 'dear sirji': 218199,\n",
       " 'sirji perfectly': 796454,\n",
       " 'perfectly fine': 646762,\n",
       " 'fine indian': 312355,\n",
       " 'indian people': 416944,\n",
       " 'impressive godrej': 406902,\n",
       " 'godrej tata': 348823,\n",
       " 'tata compliment': 849338,\n",
       " 'compliment hoping': 176481,\n",
       " 'hoping get': 394346,\n",
       " 'get second': 340724,\n",
       " 'second term': 766701,\n",
       " 'maid say': 510218,\n",
       " 'say rahul': 757900,\n",
       " 'rahul keep': 703267,\n",
       " 'keep say': 456397,\n",
       " 'say modi': 757452,\n",
       " 'modi kalla': 553692,\n",
       " 'kalla yet': 451351,\n",
       " 'yet go': 959154,\n",
       " 'go hug': 346912,\n",
       " 'hug wink': 396710,\n",
       " 'wink magand': 940584,\n",
       " 'magand idu': 508870,\n",
       " 'idu bekagittu': 402054,\n",
       " 'please vote': 657493,\n",
       " 'modi congress': 549663,\n",
       " 'congress try': 184454,\n",
       " 'try divide': 888577,\n",
       " 'divide india': 246456,\n",
       " 'yes good': 958078,\n",
       " 'good job': 350189,\n",
       " 'job highly': 444355,\n",
       " 'highly insensitivearrogant': 385993,\n",
       " 'insensitivearrogant incompetent': 423666,\n",
       " 'incompetent ploar': 409738,\n",
       " 'ploar need': 657825,\n",
       " 'need defeat': 589226,\n",
       " 'defeat costnobody': 222739,\n",
       " 'costnobody know': 195095,\n",
       " 'know make': 464273,\n",
       " 'make arrogant': 511809,\n",
       " 'arrogant person': 66568,\n",
       " 'person minister': 648695,\n",
       " 'minister give': 539991,\n",
       " 'give tickethe': 345056,\n",
       " 'tickethe touch': 871201,\n",
       " 'touch grounddespite': 880095,\n",
       " 'grounddespite 3month': 360690,\n",
       " '3month upsc': 12340,\n",
       " 'upsc protest': 903387,\n",
       " 'protest nvr': 690150,\n",
       " 'nvr meet': 608676,\n",
       " '2014 hindustan': 6571,\n",
       " 'hindustan see': 388557,\n",
       " 'see bad': 768978,\n",
       " 'bad hindus': 83309,\n",
       " 'hindus maj': 388278,\n",
       " 'maj hindu': 510817,\n",
       " 'hindu rashtra': 387667,\n",
       " 'rashtra thrash': 709062,\n",
       " 'thrash rascal': 868277,\n",
       " 'rascal face': 708953,\n",
       " 'face anti': 294255,\n",
       " 'anti indian': 55663,\n",
       " 'indian politiciansantinational': 416980,\n",
       " 'politiciansantinational urban': 664763,\n",
       " 'urban naxal': 903719,\n",
       " 'naxal wait': 587227,\n",
       " 'wait watch': 922760,\n",
       " 'watch modis': 927784,\n",
       " 'modis win': 563704,\n",
       " 'win pakistan': 939872,\n",
       " 'pakistan mein': 629301,\n",
       " 'mein bhi': 532537,\n",
       " 'bhi hindu': 105645,\n",
       " 'hindu hona': 387418,\n",
       " 'hona garv': 392314,\n",
       " 'garv baat': 335745,\n",
       " 'baat hogi': 80190,\n",
       " 'high voting': 385694,\n",
       " 'voting turnout': 921359,\n",
       " 'turnout directly': 890974,\n",
       " 'directly proportional': 241817,\n",
       " 'proportional bjp': 689073,\n",
       " 'bjp victory': 113586,\n",
       " 'victory wonder': 912907,\n",
       " 'wonder modi': 944223,\n",
       " 'modi launch': 554048,\n",
       " 'launch campaign': 474445,\n",
       " 'campaign like': 135264,\n",
       " 'like do': 488993,\n",
       " 'nt sit': 607231,\n",
       " 'sit home': 796943,\n",
       " 'home ensure': 391850,\n",
       " 'ensure everyone': 274848,\n",
       " 'everyone friend': 284526,\n",
       " 'friend family': 325964,\n",
       " 'family relative': 300663,\n",
       " 'relative vote': 722137,\n",
       " 'vote never': 919585,\n",
       " 'govt do': 355293,\n",
       " 'do remarkable': 248356,\n",
       " 'remarkable job': 724225,\n",
       " 'job make': 444520,\n",
       " 'make corruption': 512167,\n",
       " 'corruption free': 194007,\n",
       " 'free india': 324653,\n",
       " 'india ultimate': 415278,\n",
       " 'ultimate success': 894732,\n",
       " 'success shall': 831520,\n",
       " 'shall achieve': 780323,\n",
       " 'achieve corrupt': 24409,\n",
       " 'corrupt jail': 193374,\n",
       " 'jail modi': 437551,\n",
       " 'govts vision': 357400,\n",
       " 'vision corruptionfree': 916369,\n",
       " 'corruptionfree india': 194499,\n",
       " 'india ensure': 412678,\n",
       " 'ensure loot': 274928,\n",
       " 'loot country': 501426,\n",
       " 'country face': 197264,\n",
       " 'face law': 294617,\n",
       " 'law via': 475442,\n",
       " 'via namo': 912160,\n",
       " 'namo app': 581476,\n",
       " 'use beg': 904680,\n",
       " 'beg campaign': 95884,\n",
       " 'welfare delivery': 932576,\n",
       " 'delivery gst': 226500,\n",
       " 'gst ibc': 362226,\n",
       " 'ibc feo': 400091,\n",
       " 'feo place': 308039,\n",
       " 'place modi': 654320,\n",
       " 'modi exit': 551085,\n",
       " 'psus 2nd': 692528,\n",
       " '2nd term': 11057,\n",
       " 'term use': 856211,\n",
       " 'use money': 905484,\n",
       " 'money appoint': 565550,\n",
       " 'appoint judge': 61700,\n",
       " 'judge police': 448371,\n",
       " 'police forensic': 661269,\n",
       " 'forensic lab': 320743,\n",
       " 'lab fasttrack': 468645,\n",
       " 'fasttrack delivery': 303792,\n",
       " 'delivery justice': 226504,\n",
       " 'justice education': 449782,\n",
       " 'education healthcare': 263098,\n",
       " 'healthcare citizen': 379678,\n",
       " 'citizen invest': 161459,\n",
       " 'invest defence': 430555,\n",
       " 'defence india': 223236,\n",
       " 'india well': 415469,\n",
       " 'india modi': 413814,\n",
       " 'try build': 888422,\n",
       " 'build leader': 128589,\n",
       " 'leader party': 477526,\n",
       " 'party live': 636629,\n",
       " 'live deplorable': 495099,\n",
       " 'deplorable character': 230247,\n",
       " 'overpromise underdelivery': 625202,\n",
       " 'underdelivery pithy': 895891,\n",
       " 'pithy summary': 653707,\n",
       " 'summary economic': 833877,\n",
       " 'economic outcome': 260817,\n",
       " 'outcome last': 624197,\n",
       " 'last five': 472913,\n",
       " 'five year': 314837,\n",
       " 'year approach': 955233,\n",
       " 'approach general': 62294,\n",
       " 'general election': 337308,\n",
       " 'healing touch': 379477,\n",
       " 'touch india': 880103,\n",
       " 'india need': 413934,\n",
       " 'need surgery': 590299,\n",
       " 'surgery remove': 838961,\n",
       " 'remove cancer': 725371,\n",
       " 'cancer spread': 136215,\n",
       " 'spread modi': 813901,\n",
       " 'modi rss': 557073,\n",
       " 'farmer welfare': 302981,\n",
       " 'welfare 474': 932551,\n",
       " '474 farmer': 12916,\n",
       " 'farmer get': 302626,\n",
       " 'second installment': 766589,\n",
       " 'installment next': 424502,\n",
       " 'next month': 597319,\n",
       " 'month centre': 567425,\n",
       " 'centre announce': 144529,\n",
       " 'announce 75000crore': 52152,\n",
       " '75000crore scheme': 15370,\n",
       " 'mistry man': 544728,\n",
       " 'man drag': 516277,\n",
       " 'drag modi': 251961,\n",
       " 'modi nri': 555411,\n",
       " 'nri follower': 605009,\n",
       " 'follower man': 317891,\n",
       " 'man wrong': 517142,\n",
       " 'wrong action': 952647,\n",
       " 'action take': 27545,\n",
       " 'take spread': 845703,\n",
       " 'spread hatred': 813842,\n",
       " 'hatred please': 377745,\n",
       " 'please agenda': 656805,\n",
       " 'agenda condemn': 34845,\n",
       " 'condemn criminal': 177859,\n",
       " 'criminal activity': 205205,\n",
       " 'activity sir': 27970,\n",
       " 'sir fyi': 795323,\n",
       " 'fyi please': 330879,\n",
       " 'think forgot': 865132,\n",
       " 'forgot dollar': 321799,\n",
       " 'dollar india': 249757,\n",
       " 'india handle': 413102,\n",
       " 'handle exceptionally': 371534,\n",
       " 'exceptionally well': 288165,\n",
       " 'well one': 933786,\n",
       " 'one diplomatic': 614677,\n",
       " 'diplomatic shrewdness': 241313,\n",
       " 'shrewdness achievement': 788304,\n",
       " 'achievement always': 24777,\n",
       " 'always undermine': 47006,\n",
       " 'undermine modi': 896020,\n",
       " 'modi government': 551904,\n",
       " 'government always': 352727,\n",
       " 'always prone': 46798,\n",
       " 'prone criticise': 687303,\n",
       " 'criticise even': 205970,\n",
       " 'even without': 282066,\n",
       " 'without consider': 942291,\n",
       " 'consider aspect': 185981,\n",
       " 'entrepreneur rise': 276044,\n",
       " 'rise india': 738943,\n",
       " 'govt create': 355149,\n",
       " 'create system': 202773,\n",
       " 'system take': 843115,\n",
       " 'take care': 844519,\n",
       " 'care tax': 139630,\n",
       " 'tax concern': 849604,\n",
       " 'concern create': 177213,\n",
       " 'create infra': 202434,\n",
       " 'infra incubate': 421918,\n",
       " 'incubate well': 410451,\n",
       " 'well never': 933756,\n",
       " 'never happen': 594292,\n",
       " 'happen congress': 372353,\n",
       " 'congress guy': 183067,\n",
       " 'guy want': 366612,\n",
       " 'want power': 925215,\n",
       " 'power sit': 672455,\n",
       " 'sit shit': 797102,\n",
       " 'shit simple': 784594,\n",
       " 'nothing else': 603313,\n",
       " 'else modi': 269310,\n",
       " 'modi phobia': 555927,\n",
       " 'itna fark': 435763,\n",
       " 'government modi': 353562,\n",
       " 'govts effort': 357234,\n",
       " 'effort last': 264060,\n",
       " 'last year': 473220,\n",
       " 'year governance': 955848,\n",
       " 'governance reform': 352507,\n",
       " 'reform institutionalise': 719352,\n",
       " 'institutionalise honesty': 425835,\n",
       " 'honesty way': 392994,\n",
       " 'way every': 929511,\n",
       " 'every system': 283919,\n",
       " 'system institution': 842932,\n",
       " 'institution design': 425522,\n",
       " 'design inculcate': 232173,\n",
       " 'inculcate well': 410462,\n",
       " 'well inspire': 933477,\n",
       " 'inspire honesty': 424215,\n",
       " 'sir namo': 795665,\n",
       " 'namo jai': 581628,\n",
       " 'jai hind': 437121,\n",
       " 'hind jai': 386803,\n",
       " 'jai modi': 437179,\n",
       " 'modi muje': 555005,\n",
       " 'muje puri': 574148,\n",
       " 'puri bharat': 695729,\n",
       " 'bharat janta': 104446,\n",
       " 'janta par': 439220,\n",
       " 'par vishwas': 633239,\n",
       " 'vishwas hai': 916157,\n",
       " 'hai sir': 368995,\n",
       " 'sir aap': 794875,\n",
       " 'aap hamre': 16893,\n",
       " 'hamre prime': 370668,\n",
       " 'prime minister': 679825,\n",
       " 'minister honge': 540040,\n",
       " 'honge future': 393034,\n",
       " 'future country': 330399,\n",
       " 'country future': 197370,\n",
       " 'future must': 330580,\n",
       " 'must prime': 577444,\n",
       " 'minister bjp': 539733,\n",
       " 'anchor canvas': 50759,\n",
       " 'canvas modi': 137180,\n",
       " 'modi fit': 551390,\n",
       " 'fit journalism': 314659,\n",
       " 'slam maker': 798491,\n",
       " 'maker biopic': 514110,\n",
       " 'biopic deliberately': 109626,\n",
       " 'deliberately use': 226042,\n",
       " 'use name': 905500,\n",
       " 'name credit': 580489,\n",
       " 'channel say': 149709,\n",
       " 'also scare': 45407,\n",
       " 'scare contest': 760109,\n",
       " 'contest two': 188630,\n",
       " 'two seat': 893335,\n",
       " 'seat even': 765640,\n",
       " 'even propoganda': 281565,\n",
       " 'propoganda need': 688995,\n",
       " 'need little': 589699,\n",
       " 'little decency': 494646,\n",
       " 'india indias': 413323,\n",
       " 'indias century': 418385,\n",
       " 'century yuva': 144890,\n",
       " 'yuva shakti': 962428,\n",
       " 'shakti take': 780190,\n",
       " 'take great': 844927,\n",
       " 'great height': 359175,\n",
       " 'height modi': 381553,\n",
       " 'govt stand': 356608,\n",
       " 'stand firmly': 815785,\n",
       " 'firmly via': 313364,\n",
       " '100 sure': 461,\n",
       " 'sure sir': 838411,\n",
       " 'sir inform': 795460,\n",
       " 'inform family': 421516,\n",
       " 'family friend': 300221,\n",
       " 'friend give': 325991,\n",
       " 'give record': 344665,\n",
       " 'record number': 717594,\n",
       " 'number vote': 608403,\n",
       " 'modi sir': 557755,\n",
       " 'sir bjp': 795023,\n",
       " 'bjp thank': 113402,\n",
       " 'loose existance': 501114,\n",
       " 'existance election': 289409,\n",
       " 'election rafel': 267129,\n",
       " 'rafel corruption': 701296,\n",
       " 'free scam': 324850,\n",
       " 'scam free': 759355,\n",
       " 'free nation': 324755,\n",
       " 'nation know': 584054,\n",
       " 'know nature': 464407,\n",
       " 'nature except': 586699,\n",
       " 'except narendra': 287935,\n",
       " 'party scammer': 637129,\n",
       " 'scammer aap': 759830,\n",
       " 'aap nautanki': 17021,\n",
       " 'nautanki baj': 586827,\n",
       " 'concierge super': 177577,\n",
       " 'super rich': 834535,\n",
       " 'rich make': 736376,\n",
       " 'make unusual': 513956,\n",
       " 'unusual sight': 901432,\n",
       " 'sight nirav': 790327,\n",
       " 'modi hear': 552420,\n",
       " 'hear via': 380383,\n",
       " 'confused say': 179985,\n",
       " 'say intellectual': 757061,\n",
       " 'intellectual decide': 426722,\n",
       " 'decide modi': 220258,\n",
       " 'modi policy': 556100,\n",
       " 'policy question': 661945,\n",
       " 'question intellectual': 698541,\n",
       " 'intellectual side': 426857,\n",
       " 'side modi': 789890,\n",
       " 'modi similarly': 557732,\n",
       " 'similarly disagree': 791773,\n",
       " 'disagree policy': 242416,\n",
       " 'question decide': 698300,\n",
       " 'decide anything': 220040,\n",
       " 'ask learn': 69478,\n",
       " 'learn treat': 479434,\n",
       " 'treat minority': 884003,\n",
       " 'minority well': 541521,\n",
       " 'well want': 934397,\n",
       " 'want minor': 925000,\n",
       " 'india vote': 415411,\n",
       " 'vote shri': 919982,\n",
       " 'govts year': 357410,\n",
       " 'year cheat': 955424,\n",
       " 'cheat people': 151873,\n",
       " 'people promise': 644869,\n",
       " 'promise impact': 686113,\n",
       " 'impact lot': 404988,\n",
       " 'lot thing': 503947,\n",
       " 'thing economy': 863645,\n",
       " 'economy country': 261608,\n",
       " 'country brotherhood': 196882,\n",
       " 'brotherhood nation': 126913,\n",
       " 'logic sir': 497974,\n",
       " 'sir could': 795143,\n",
       " 'could please': 195665,\n",
       " 'please throw': 657450,\n",
       " 'throw light': 869466,\n",
       " 'light logic': 487855,\n",
       " 'logic behind': 497758,\n",
       " 'behind tweet': 97259,\n",
       " 'tweet bjpnda': 891318,\n",
       " 'bjpnda lose': 114063,\n",
       " 'lose modi': 502649,\n",
       " 'modi fight': 551341,\n",
       " 'fight bengaluru': 308849,\n",
       " 'bengaluru south': 100062,\n",
       " 'modi opposition': 555557,\n",
       " 'opposition opposition': 620194,\n",
       " 'opposition leader': 620053,\n",
       " 'leader intent': 477240,\n",
       " 'intent clear': 427345,\n",
       " 'clear do': 164412,\n",
       " 'nt understand': 607503,\n",
       " 'understand fail': 896373,\n",
       " 'fail attempt': 296557,\n",
       " 'attempt vote': 74315,\n",
       " 'modi tell': 558533,\n",
       " 'tell people': 854055,\n",
       " 'people come': 643591,\n",
       " 'come power': 170012,\n",
       " 'great opponent': 359418,\n",
       " 'opponent generally': 618535,\n",
       " 'generally selfish': 337502,\n",
       " 'selfish idiot': 773007,\n",
       " 'idiot keep': 401673,\n",
       " 'keep attack': 455620,\n",
       " 'attack governance': 73524,\n",
       " 'governance skill': 352535,\n",
       " 'skill modi': 798038,\n",
       " 'great 3040': 358773,\n",
       " '3040 yr': 11533,\n",
       " 'yr tell': 961911,\n",
       " 'tell give': 853735,\n",
       " 'give oppo': 344406,\n",
       " 'oppo know': 618457,\n",
       " 'know year': 465256,\n",
       " 'year modi': 956193,\n",
       " 'modi rule': 557083,\n",
       " 'rule wonder': 744523,\n",
       " 'wonder stupid': 944349,\n",
       " 'stupid world': 829670,\n",
       " 'world create': 947850,\n",
       " 'create dishonest': 202254,\n",
       " 'pit picture': 653613,\n",
       " 'picture video': 652309,\n",
       " 'video hindu': 913180,\n",
       " 'hindu extremist': 387327,\n",
       " 'extremist crime': 293581,\n",
       " 'crime year': 205190,\n",
       " 'year use': 956867,\n",
       " 'use coz': 904862,\n",
       " 'coz ppl': 201319,\n",
       " 'ppl take': 673771,\n",
       " 'take storm': 845727,\n",
       " 'storm modi': 824637,\n",
       " 'rss terror': 743044,\n",
       " 'kar narendra': 452485,\n",
       " 'modi appeal': 547872,\n",
       " 'appeal everyone': 60769,\n",
       " 'everyone tweetstorm': 284826,\n",
       " 'modi mother': 554941,\n",
       " 'mother elect': 569383,\n",
       " 'elect khan': 265328,\n",
       " 'khan would': 458405,\n",
       " 'would kill': 950729,\n",
       " 'last time': 473175,\n",
       " 'time pay': 873435,\n",
       " 'pay loan': 640996,\n",
       " 'loan entrepreneur': 496704,\n",
       " 'entrepreneur name': 276033,\n",
       " 'name vijay': 581305,\n",
       " 'vijay maalya': 914259,\n",
       " 'maalya nirav': 507359,\n",
       " 'modi whose': 559678,\n",
       " 'whose number': 937789,\n",
       " 'number time': 608379,\n",
       " 'time please': 873476,\n",
       " 'please check': 656897,\n",
       " 'check next': 152315,\n",
       " 'next list': 597284,\n",
       " 'rahul do': 702896,\n",
       " 'nt make': 606592,\n",
       " 'make false': 512439,\n",
       " 'false promise': 299515,\n",
       " 'promise like': 686202,\n",
       " 'modi always': 547651,\n",
       " 'always deliver': 46418,\n",
       " 'deliver whatever': 226451,\n",
       " 'whatever promise': 935502,\n",
       " 'promise may': 686232,\n",
       " 'may check': 526138,\n",
       " 'check track': 152482,\n",
       " 'track record': 881284,\n",
       " 'record count': 717451,\n",
       " 'kitna jalte': 462437,\n",
       " 'jalte tum': 438581,\n",
       " 'tum modi': 889977,\n",
       " 'modi tweet': 558960,\n",
       " 'tweet show': 891964,\n",
       " 'show jealousy': 787278,\n",
       " 'jealousy towards': 440611,\n",
       " 'towards great': 880729,\n",
       " 'great prime': 359485,\n",
       " 'centre state': 144697,\n",
       " 'state govts': 818586,\n",
       " 'govts work': 357407,\n",
       " 'work together': 946929,\n",
       " 'together make': 876975,\n",
       " 'make india': 512748,\n",
       " 'india tbfree': 415093,\n",
       " 'tbfree 2025': 850304,\n",
       " 'ever rgis': 282939,\n",
       " 'rgis go': 735812,\n",
       " 'go length': 347050,\n",
       " 'length breadth': 481989,\n",
       " 'breadth country': 123462,\n",
       " 'country reception': 198078,\n",
       " 'reception mass': 716932,\n",
       " 'mass india': 523076,\n",
       " 'india love': 413636,\n",
       " 'love modi': 504649,\n",
       " 'modi leader': 554071,\n",
       " 'leader bjp': 476675,\n",
       " 'bjp match': 112408,\n",
       " ...}"
      ]
     },
     "execution_count": 57,
     "metadata": {},
     "output_type": "execute_result"
    }
   ],
   "source": [
    "tfidfvector.vocabulary_"
   ]
  },
  {
   "cell_type": "code",
   "execution_count": null,
   "metadata": {},
   "outputs": [],
   "source": []
  }
 ],
 "metadata": {
  "kernelspec": {
   "display_name": "Python 3",
   "language": "python",
   "name": "python3"
  },
  "language_info": {
   "codemirror_mode": {
    "name": "ipython",
    "version": 3
   },
   "file_extension": ".py",
   "mimetype": "text/x-python",
   "name": "python",
   "nbconvert_exporter": "python",
   "pygments_lexer": "ipython3",
   "version": "3.8.3"
  }
 },
 "nbformat": 4,
 "nbformat_minor": 4
}
